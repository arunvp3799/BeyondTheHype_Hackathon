{
 "cells": [
  {
   "cell_type": "code",
   "execution_count": 2,
   "id": "2e9b96e4-3d13-41f9-a234-0bff74357ab0",
   "metadata": {},
   "outputs": [],
   "source": [
    "import pandas as pd\n",
    "from sklearn.model_selection import train_test_split"
   ]
  },
  {
   "cell_type": "code",
   "execution_count": 3,
   "id": "1ea053b5-e691-4544-a685-366e97f4397b",
   "metadata": {},
   "outputs": [],
   "source": [
    "# Load the data\n",
    "inputs = pd.read_csv('inputs.csv')\n",
    "labels = pd.read_csv('labels.csv')\n",
    "\n",
    "# Merge on PatientID\n",
    "data = pd.merge(inputs, labels, on='PatientID')\n",
    "\n",
    "# Check for missing values and handle them if necessary\n",
    "data = data.dropna().reset_index(drop=True)\n",
    "\n",
    "# Split into train and evaluation sets\n",
    "train_data, eval_data = train_test_split(data, test_size=0.2, random_state=42, stratify=data['HadHeartAttack'])"
   ]
  },
  {
   "cell_type": "code",
   "execution_count": 4,
   "id": "e3706a88-7311-445c-8d8e-3f94d5463194",
   "metadata": {},
   "outputs": [],
   "source": [
    "def create_prompt(row):\n",
    "    # Example: Convert features into a text description\n",
    "    prompt = f\"The patient is a {row['Sex'].lower()} aged {row['AgeCategory']}. \"\n",
    "    prompt += f\"They have a BMI of {row['BMI']:.1f}. \"\n",
    "    prompt += f\"Their general health is reported as {row['GeneralHealth'].lower()}. \"\n",
    "\n",
    "    # Include key medical history features\n",
    "    conditions = []\n",
    "    if row['HadAngina'] == 1:\n",
    "        conditions.append('angina')\n",
    "    if row['HadStroke'] == 1:\n",
    "        conditions.append('stroke')\n",
    "    if row['HadAsthma'] == 1:\n",
    "        conditions.append('asthma')\n",
    "    if row['HadSkinCancer'] == 1:\n",
    "        conditions.append('skin cancer')\n",
    "    if row['HadCOPD'] == 1:\n",
    "        conditions.append('COPD')\n",
    "    if row['HadDepressiveDisorder'] == 1:\n",
    "        conditions.append('depressive disorder')\n",
    "    if row['HadKidneyDisease'] == 1:\n",
    "        conditions.append('kidney disease')\n",
    "    if row['HadArthritis'] == 1:\n",
    "        conditions.append('arthritis')\n",
    "    if row['HadDiabetes'] == 'Yes':\n",
    "        conditions.append('diabetes')\n",
    "    if row['CovidPos'] == 1:\n",
    "        conditions.append('COVID-19')\n",
    "\n",
    "    if conditions:\n",
    "        prompt += \"They have a history of \" + \", \".join(conditions) + \". \"\n",
    "    else:\n",
    "        prompt += \"They have no significant medical history. \"\n",
    "\n",
    "    prompt += \"Based on this information, is the patient at risk of a heart attack?\"\n",
    "\n",
    "    return prompt"
   ]
  },
  {
   "cell_type": "code",
   "execution_count": 5,
   "id": "69b2dec9-785a-4584-96dd-006e09a543c9",
   "metadata": {},
   "outputs": [],
   "source": [
    "from torch.utils.data import Dataset\n",
    "\n",
    "class HeartAttackDataset(Dataset):\n",
    "    def __init__(self, dataframe, tokenizer, max_length=128):\n",
    "        self.dataframe = dataframe\n",
    "        self.tokenizer = tokenizer\n",
    "        self.max_length = max_length\n",
    "\n",
    "        # Preprocess data\n",
    "        self.texts = []\n",
    "        self.labels = []\n",
    "        for _, row in self.dataframe.iterrows():\n",
    "            prompt = create_prompt(row)\n",
    "            label = row['HadHeartAttack']\n",
    "            self.texts.append(prompt)\n",
    "            self.labels.append(label)\n",
    "\n",
    "    def __len__(self):\n",
    "        return len(self.labels)\n",
    "\n",
    "    def __getitem__(self, idx):\n",
    "        prompt = self.texts[idx]\n",
    "        label = self.labels[idx]\n",
    "\n",
    "        # Tokenize the prompt\n",
    "        inputs = self.tokenizer(\n",
    "            prompt,\n",
    "            truncation=True,\n",
    "            padding='max_length',\n",
    "            max_length=self.max_length,\n",
    "            return_tensors='pt',\n",
    "        )\n",
    "\n",
    "        item = {key: val.squeeze(0) for key, val in inputs.items()}\n",
    "        item['labels'] = label\n",
    "\n",
    "        return item"
   ]
  },
  {
   "cell_type": "code",
   "execution_count": 6,
   "id": "6a3070de-6489-488e-b72a-1ef1eb8c4749",
   "metadata": {},
   "outputs": [
    {
     "name": "stderr",
     "output_type": "stream",
     "text": [
      "Some weights of DistilBertForSequenceClassification were not initialized from the model checkpoint at distilbert-base-uncased and are newly initialized: ['classifier.bias', 'classifier.weight', 'pre_classifier.bias', 'pre_classifier.weight']\n",
      "You should probably TRAIN this model on a down-stream task to be able to use it for predictions and inference.\n"
     ]
    }
   ],
   "source": [
    "from transformers import AutoTokenizer, AutoModelForSequenceClassification\n",
    "\n",
    "model_name = 'distilbert-base-uncased'\n",
    "\n",
    "tokenizer = AutoTokenizer.from_pretrained(model_name)\n",
    "model = AutoModelForSequenceClassification.from_pretrained(model_name, num_labels=2)"
   ]
  },
  {
   "cell_type": "code",
   "execution_count": 13,
   "id": "5ed96ba4-23f1-4ba7-b6d7-f1329bb25895",
   "metadata": {},
   "outputs": [
    {
     "data": {
      "text/plain": [
       "DistilBertForSequenceClassification(\n",
       "  (distilbert): DistilBertModel(\n",
       "    (embeddings): Embeddings(\n",
       "      (word_embeddings): Embedding(30522, 768, padding_idx=0)\n",
       "      (position_embeddings): Embedding(512, 768)\n",
       "      (LayerNorm): LayerNorm((768,), eps=1e-12, elementwise_affine=True)\n",
       "      (dropout): Dropout(p=0.1, inplace=False)\n",
       "    )\n",
       "    (transformer): Transformer(\n",
       "      (layer): ModuleList(\n",
       "        (0-5): 6 x TransformerBlock(\n",
       "          (attention): DistilBertSdpaAttention(\n",
       "            (dropout): Dropout(p=0.1, inplace=False)\n",
       "            (q_lin): Linear(in_features=768, out_features=768, bias=True)\n",
       "            (k_lin): Linear(in_features=768, out_features=768, bias=True)\n",
       "            (v_lin): Linear(in_features=768, out_features=768, bias=True)\n",
       "            (out_lin): Linear(in_features=768, out_features=768, bias=True)\n",
       "          )\n",
       "          (sa_layer_norm): LayerNorm((768,), eps=1e-12, elementwise_affine=True)\n",
       "          (ffn): FFN(\n",
       "            (dropout): Dropout(p=0.1, inplace=False)\n",
       "            (lin1): Linear(in_features=768, out_features=3072, bias=True)\n",
       "            (lin2): Linear(in_features=3072, out_features=768, bias=True)\n",
       "            (activation): GELUActivation()\n",
       "          )\n",
       "          (output_layer_norm): LayerNorm((768,), eps=1e-12, elementwise_affine=True)\n",
       "        )\n",
       "      )\n",
       "    )\n",
       "  )\n",
       "  (pre_classifier): Linear(in_features=768, out_features=768, bias=True)\n",
       "  (classifier): Linear(in_features=768, out_features=2, bias=True)\n",
       "  (dropout): Dropout(p=0.2, inplace=False)\n",
       ")"
      ]
     },
     "execution_count": 13,
     "metadata": {},
     "output_type": "execute_result"
    }
   ],
   "source": [
    "import torch\n",
    "device = torch.device(\"cuda\" if torch.cuda.is_available() else \"cpu\")\n",
    "model.to(device)"
   ]
  },
  {
   "cell_type": "code",
   "execution_count": 7,
   "id": "f22cb8ba-5a65-48a4-8926-0bfeb613f384",
   "metadata": {},
   "outputs": [],
   "source": [
    "train_dataset = HeartAttackDataset(train_data, tokenizer)\n",
    "eval_dataset = HeartAttackDataset(eval_data, tokenizer)"
   ]
  },
  {
   "cell_type": "code",
   "execution_count": 8,
   "id": "90cbb497-5e1e-4422-8fc7-0b5762d88ff9",
   "metadata": {},
   "outputs": [],
   "source": [
    "import numpy as np\n",
    "from sklearn.metrics import roc_auc_score, accuracy_score, precision_recall_fscore_support\n",
    "\n",
    "def compute_metrics(eval_pred):\n",
    "    logits, labels = eval_pred\n",
    "    predictions = np.argmax(logits, axis=1)\n",
    "    probs = np.exp(logits) / np.sum(np.exp(logits), axis=1, keepdims=True)\n",
    "    roc_auc = roc_auc_score(labels, probs[:, 1])\n",
    "    accuracy = accuracy_score(labels, predictions)\n",
    "    precision, recall, f1, _ = precision_recall_fscore_support(labels, predictions, average='binary')\n",
    "\n",
    "    return {\n",
    "        'roc_auc': roc_auc,\n",
    "        'accuracy': accuracy,\n",
    "        'precision': precision,\n",
    "        'recall': recall,\n",
    "        'f1': f1,\n",
    "    }"
   ]
  },
  {
   "cell_type": "code",
   "execution_count": 10,
   "id": "19439263-54d3-4dd3-a011-0a20f9211e00",
   "metadata": {},
   "outputs": [],
   "source": [
    "from transformers import TrainingArguments\n",
    "\n",
    "training_args = TrainingArguments(\n",
    "    output_dir='./results',\n",
    "    num_train_epochs=5,\n",
    "    per_device_train_batch_size=16,\n",
    "    per_device_eval_batch_size=32,\n",
    "    eval_strategy='epoch',\n",
    "    save_strategy='epoch',\n",
    "    logging_steps=50,\n",
    "    load_best_model_at_end=True,\n",
    "    metric_for_best_model='roc_auc',\n",
    "    greater_is_better=True,\n",
    "    fp16=True,  # Enable if you have a GPU that supports it\n",
    ")"
   ]
  },
  {
   "cell_type": "code",
   "execution_count": 14,
   "id": "e6d46cc5-f13c-4249-82cf-126be09febe0",
   "metadata": {},
   "outputs": [
    {
     "name": "stderr",
     "output_type": "stream",
     "text": [
      "/state/partition1/job-54244469/ipykernel_2678456/3596171536.py:3: FutureWarning: `tokenizer` is deprecated and will be removed in version 5.0.0 for `Trainer.__init__`. Use `processing_class` instead.\n",
      "  trainer = Trainer(\n"
     ]
    }
   ],
   "source": [
    "from transformers import Trainer\n",
    "\n",
    "trainer = Trainer(\n",
    "    model=model,\n",
    "    args=training_args,\n",
    "    train_dataset=train_dataset,\n",
    "    eval_dataset=eval_dataset,\n",
    "    tokenizer=tokenizer,\n",
    "    compute_metrics=compute_metrics,\n",
    ")"
   ]
  },
  {
   "cell_type": "code",
   "execution_count": 15,
   "id": "5ece3c76-213b-4c7b-98b3-650ec2f62156",
   "metadata": {},
   "outputs": [
    {
     "name": "stderr",
     "output_type": "stream",
     "text": [
      "\u001b[34m\u001b[1mwandb\u001b[0m: \u001b[33mWARNING\u001b[0m The `run_name` is currently set to the same value as `TrainingArguments.output_dir`. If this was not intended, please specify a different run name by setting the `TrainingArguments.run_name` parameter.\n",
      "Failed to detect the name of this notebook, you can set it manually with the WANDB_NOTEBOOK_NAME environment variable to enable code saving.\n",
      "\u001b[34m\u001b[1mwandb\u001b[0m: Using wandb-core as the SDK backend. Please refer to https://wandb.me/wandb-core for more information.\n",
      "\u001b[34m\u001b[1mwandb\u001b[0m: Currently logged in as: \u001b[33mhsp287\u001b[0m. Use \u001b[1m`wandb login --relogin`\u001b[0m to force relogin\n"
     ]
    },
    {
     "data": {
      "text/html": [
       "Tracking run with wandb version 0.18.3"
      ],
      "text/plain": [
       "<IPython.core.display.HTML object>"
      ]
     },
     "metadata": {},
     "output_type": "display_data"
    },
    {
     "data": {
      "text/html": [
       "Run data is saved locally in <code>/scratch/hsp287/Projects/Hackathon/wandb/run-20241203_163717-hn7px4q2</code>"
      ],
      "text/plain": [
       "<IPython.core.display.HTML object>"
      ]
     },
     "metadata": {},
     "output_type": "display_data"
    },
    {
     "data": {
      "text/html": [
       "Syncing run <strong><a href='https://wandb.ai/hsp287/huggingface/runs/hn7px4q2' target=\"_blank\">./results</a></strong> to <a href='https://wandb.ai/hsp287/huggingface' target=\"_blank\">Weights & Biases</a> (<a href='https://wandb.me/run' target=\"_blank\">docs</a>)<br/>"
      ],
      "text/plain": [
       "<IPython.core.display.HTML object>"
      ]
     },
     "metadata": {},
     "output_type": "display_data"
    },
    {
     "data": {
      "text/html": [
       " View project at <a href='https://wandb.ai/hsp287/huggingface' target=\"_blank\">https://wandb.ai/hsp287/huggingface</a>"
      ],
      "text/plain": [
       "<IPython.core.display.HTML object>"
      ]
     },
     "metadata": {},
     "output_type": "display_data"
    },
    {
     "data": {
      "text/html": [
       " View run at <a href='https://wandb.ai/hsp287/huggingface/runs/hn7px4q2' target=\"_blank\">https://wandb.ai/hsp287/huggingface/runs/hn7px4q2</a>"
      ],
      "text/plain": [
       "<IPython.core.display.HTML object>"
      ]
     },
     "metadata": {},
     "output_type": "display_data"
    },
    {
     "data": {
      "text/html": [
       "\n",
       "    <div>\n",
       "      \n",
       "      <progress value='47540' max='47540' style='width:300px; height:20px; vertical-align: middle;'></progress>\n",
       "      [47540/47540 31:58, Epoch 5/5]\n",
       "    </div>\n",
       "    <table border=\"1\" class=\"dataframe\">\n",
       "  <thead>\n",
       " <tr style=\"text-align: left;\">\n",
       "      <th>Epoch</th>\n",
       "      <th>Training Loss</th>\n",
       "      <th>Validation Loss</th>\n",
       "      <th>Roc Auc</th>\n",
       "      <th>Accuracy</th>\n",
       "      <th>Precision</th>\n",
       "      <th>Recall</th>\n",
       "      <th>F1</th>\n",
       "    </tr>\n",
       "  </thead>\n",
       "  <tbody>\n",
       "    <tr>\n",
       "      <td>1</td>\n",
       "      <td>0.225400</td>\n",
       "      <td>0.218590</td>\n",
       "      <td>0.839138</td>\n",
       "      <td>0.944415</td>\n",
       "      <td>0.000000</td>\n",
       "      <td>0.000000</td>\n",
       "      <td>0.000000</td>\n",
       "    </tr>\n",
       "    <tr>\n",
       "      <td>2</td>\n",
       "      <td>0.150400</td>\n",
       "      <td>0.168451</td>\n",
       "      <td>0.738353</td>\n",
       "      <td>0.944415</td>\n",
       "      <td>0.000000</td>\n",
       "      <td>0.000000</td>\n",
       "      <td>0.000000</td>\n",
       "    </tr>\n",
       "    <tr>\n",
       "      <td>3</td>\n",
       "      <td>0.171700</td>\n",
       "      <td>0.155230</td>\n",
       "      <td>0.872269</td>\n",
       "      <td>0.944415</td>\n",
       "      <td>0.000000</td>\n",
       "      <td>0.000000</td>\n",
       "      <td>0.000000</td>\n",
       "    </tr>\n",
       "    <tr>\n",
       "      <td>4</td>\n",
       "      <td>0.155200</td>\n",
       "      <td>0.159107</td>\n",
       "      <td>0.850067</td>\n",
       "      <td>0.947229</td>\n",
       "      <td>0.563015</td>\n",
       "      <td>0.226112</td>\n",
       "      <td>0.322646</td>\n",
       "    </tr>\n",
       "    <tr>\n",
       "      <td>5</td>\n",
       "      <td>0.166500</td>\n",
       "      <td>0.154128</td>\n",
       "      <td>0.876503</td>\n",
       "      <td>0.946782</td>\n",
       "      <td>0.591463</td>\n",
       "      <td>0.137654</td>\n",
       "      <td>0.223331</td>\n",
       "    </tr>\n",
       "  </tbody>\n",
       "</table><p>"
      ],
      "text/plain": [
       "<IPython.core.display.HTML object>"
      ]
     },
     "metadata": {},
     "output_type": "display_data"
    },
    {
     "name": "stderr",
     "output_type": "stream",
     "text": [
      "/ext3/miniforge3/lib/python3.12/site-packages/sklearn/metrics/_classification.py:1531: UndefinedMetricWarning: Precision is ill-defined and being set to 0.0 due to no predicted samples. Use `zero_division` parameter to control this behavior.\n",
      "  _warn_prf(average, modifier, f\"{metric.capitalize()} is\", len(result))\n",
      "/ext3/miniforge3/lib/python3.12/site-packages/sklearn/metrics/_classification.py:1531: UndefinedMetricWarning: Precision is ill-defined and being set to 0.0 due to no predicted samples. Use `zero_division` parameter to control this behavior.\n",
      "  _warn_prf(average, modifier, f\"{metric.capitalize()} is\", len(result))\n",
      "/ext3/miniforge3/lib/python3.12/site-packages/sklearn/metrics/_classification.py:1531: UndefinedMetricWarning: Precision is ill-defined and being set to 0.0 due to no predicted samples. Use `zero_division` parameter to control this behavior.\n",
      "  _warn_prf(average, modifier, f\"{metric.capitalize()} is\", len(result))\n"
     ]
    },
    {
     "data": {
      "text/plain": [
       "TrainOutput(global_step=47540, training_loss=0.1642354727493498, metrics={'train_runtime': 1926.2579, 'train_samples_per_second': 394.872, 'train_steps_per_second': 24.68, 'total_flos': 2.518950377568e+16, 'train_loss': 0.1642354727493498, 'epoch': 5.0})"
      ]
     },
     "execution_count": 15,
     "metadata": {},
     "output_type": "execute_result"
    }
   ],
   "source": [
    "trainer.train()"
   ]
  }
 ],
 "metadata": {
  "kernelspec": {
   "display_name": "peter_env",
   "language": "python",
   "name": "my_env"
  },
  "language_info": {
   "codemirror_mode": {
    "name": "ipython",
    "version": 3
   },
   "file_extension": ".py",
   "mimetype": "text/x-python",
   "name": "python",
   "nbconvert_exporter": "python",
   "pygments_lexer": "ipython3",
   "version": "3.12.6"
  }
 },
 "nbformat": 4,
 "nbformat_minor": 5
}
