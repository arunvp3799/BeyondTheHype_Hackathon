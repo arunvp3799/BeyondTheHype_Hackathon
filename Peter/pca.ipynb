{
 "cells": [
  {
   "cell_type": "code",
   "execution_count": 61,
   "metadata": {},
   "outputs": [],
   "source": [
    "import pandas as pd\n",
    "from sklearn.preprocessing import StandardScaler\n",
    "from sklearn.compose import ColumnTransformer\n",
    "from sklearn.preprocessing import OneHotEncoder\n",
    "from sklearn.decomposition import PCA\n",
    "from sklearn.preprocessing import StandardScaler\n",
    "import os"
   ]
  },
  {
   "cell_type": "code",
   "execution_count": 28,
   "metadata": {},
   "outputs": [],
   "source": [
    "cwd = os.path.join(os.getcwd())\n",
    "input_csv = os.path.join(cwd, \"../dataset/inputs.csv\")\n",
    "label_csv = os.path.join(cwd, \"../dataset/labels.csv\")"
   ]
  },
  {
   "cell_type": "code",
   "execution_count": 29,
   "metadata": {},
   "outputs": [],
   "source": [
    "features = pd.read_csv(input_csv)\n",
    "labels = pd.read_csv(label_csv)"
   ]
  },
  {
   "cell_type": "code",
   "execution_count": 30,
   "metadata": {},
   "outputs": [],
   "source": [
    "X = features.drop(columns=['PatientID'])\n",
    "y = labels['HadHeartAttack']"
   ]
  },
  {
   "cell_type": "code",
   "execution_count": 49,
   "metadata": {},
   "outputs": [
    {
     "name": "stdout",
     "output_type": "stream",
     "text": [
      "There are 24 numerical features:\n",
      " Index(['HeightInMeters', 'WeightInKilograms', 'BMI', 'HadAngina', 'HadStroke',\n",
      "       'HadAsthma', 'HadSkinCancer', 'HadCOPD', 'HadDepressiveDisorder',\n",
      "       'HadKidneyDisease', 'HadArthritis', 'DeafOrHardOfHearing',\n",
      "       'BlindOrVisionDifficulty', 'DifficultyConcentrating',\n",
      "       'DifficultyWalking', 'DifficultyDressingBathing', 'DifficultyErrands',\n",
      "       'ChestScan', 'AlcoholDrinkers', 'HIVTesting', 'FluVaxLast12',\n",
      "       'PneumoVaxEver', 'HighRiskLastYear', 'CovidPos'],\n",
      "      dtype='object')\n",
      "There are 9 categorical features:\n",
      " Index(['State', 'Sex', 'GeneralHealth', 'AgeCategory', 'HadDiabetes',\n",
      "       'SmokerStatus', 'ECigaretteUsage', 'RaceEthnicityCategory',\n",
      "       'TetanusLast10Tdap'],\n",
      "      dtype='object')\n"
     ]
    }
   ],
   "source": [
    "numerical_features = X.select_dtypes(include=['int64', 'float64']).columns\n",
    "categorical_features = X.select_dtypes(include=['object']).columns\n",
    "print(f\"There are {len(numerical_features)} numerical features:\\n\", numerical_features)\n",
    "print(f\"There are {len(categorical_features)} categorical features:\\n\", categorical_features)"
   ]
  },
  {
   "cell_type": "code",
   "execution_count": 54,
   "metadata": {},
   "outputs": [],
   "source": [
    "# numerical features are kept as number, categorical or one-hot-encoded\n",
    "preprocessor = ColumnTransformer(\n",
    "    transformers=[\n",
    "        ('num', StandardScaler(), numerical_features),\n",
    "        ('cat', OneHotEncoder(handle_unknown='ignore'), categorical_features)\n",
    "    ]\n",
    ")"
   ]
  },
  {
   "cell_type": "code",
   "execution_count": 64,
   "metadata": {},
   "outputs": [],
   "source": [
    "X_preprocessed = preprocessor.fit_transform(X)"
   ]
  },
  {
   "cell_type": "code",
   "execution_count": 90,
   "metadata": {},
   "outputs": [
    {
     "name": "stdout",
     "output_type": "stream",
     "text": [
      "There are 95 after one-hot-encoding.\n",
      "The names of the categorical features are:\n",
      " ['State_Alabama', 'State_Alaska', 'State_Arizona', 'State_Arkansas', 'State_California', 'State_Colorado', 'State_Connecticut', 'State_Delaware', 'State_District of Columbia', 'State_Florida', 'State_Georgia', 'State_Guam', 'State_Hawaii', 'State_Idaho', 'State_Illinois', 'State_Indiana', 'State_Iowa', 'State_Kansas', 'State_Kentucky', 'State_Louisiana', 'State_Maine', 'State_Maryland', 'State_Massachusetts', 'State_Michigan', 'State_Minnesota', 'State_Mississippi', 'State_Missouri', 'State_Montana', 'State_Nebraska', 'State_Nevada', 'State_New Hampshire', 'State_New Jersey', 'State_New Mexico', 'State_New York', 'State_North Carolina', 'State_North Dakota', 'State_Ohio', 'State_Oklahoma', 'State_Oregon', 'State_Pennsylvania', 'State_Puerto Rico', 'State_Rhode Island', 'State_South Carolina', 'State_South Dakota', 'State_Tennessee', 'State_Texas', 'State_Utah', 'State_Vermont', 'State_Virgin Islands', 'State_Virginia', 'State_Washington', 'State_West Virginia', 'State_Wisconsin', 'State_Wyoming', 'Sex_Female', 'Sex_Male', 'GeneralHealth_Excellent', 'GeneralHealth_Fair', 'GeneralHealth_Good', 'GeneralHealth_Poor', 'GeneralHealth_Very good', 'AgeCategory_Age 18 to 24', 'AgeCategory_Age 25 to 29', 'AgeCategory_Age 30 to 34', 'AgeCategory_Age 35 to 39', 'AgeCategory_Age 40 to 44', 'AgeCategory_Age 45 to 49', 'AgeCategory_Age 50 to 54', 'AgeCategory_Age 55 to 59', 'AgeCategory_Age 60 to 64', 'AgeCategory_Age 65 to 69', 'AgeCategory_Age 70 to 74', 'AgeCategory_Age 75 to 79', 'AgeCategory_Age 80 or older', 'HadDiabetes_No', 'HadDiabetes_No, pre-diabetes or borderline diabetes', 'HadDiabetes_Yes', 'HadDiabetes_Yes, but only during pregnancy (female)', 'SmokerStatus_Current smoker - now smokes every day', 'SmokerStatus_Current smoker - now smokes some days', 'SmokerStatus_Former smoker', 'SmokerStatus_Never smoked', 'ECigaretteUsage_Never used e-cigarettes in my entire life', 'ECigaretteUsage_Not at all (right now)', 'ECigaretteUsage_Use them every day', 'ECigaretteUsage_Use them some days', 'RaceEthnicityCategory_Black only, Non-Hispanic', 'RaceEthnicityCategory_Hispanic', 'RaceEthnicityCategory_Multiracial, Non-Hispanic', 'RaceEthnicityCategory_Other race only, Non-Hispanic', 'RaceEthnicityCategory_White only, Non-Hispanic', 'TetanusLast10Tdap_No, did not receive any tetanus shot in the past 10 years', 'TetanusLast10Tdap_Yes, received Tdap', 'TetanusLast10Tdap_Yes, received tetanus shot but not sure what type', 'TetanusLast10Tdap_Yes, received tetanus shot, but not Tdap']\n"
     ]
    }
   ],
   "source": [
    "categorical_feature_names = preprocessor.named_transformers_['cat'].get_feature_names_out(categorical_features).tolist()\n",
    "print(f\"There are {len(categorical_feature_names)} after one-hot-encoding.\")\n",
    "print(f\"The names of the categorical features are:\\n\", categorical_feature_names)"
   ]
  },
  {
   "cell_type": "code",
   "execution_count": 84,
   "metadata": {},
   "outputs": [
    {
     "name": "stdout",
     "output_type": "stream",
     "text": [
      "Number of components to retain 80% variance: 22\n"
     ]
    }
   ],
   "source": [
    "# Apply PCA\n",
    "pca = PCA()\n",
    "X_pca = pca.fit_transform(X_preprocessed)\n",
    "\n",
    "# Calculate cumulative explained variance\n",
    "cumulative_variance = pca.explained_variance_ratio_.cumsum()\n",
    "\n",
    "# Determine the number of components to capture 80% variance\n",
    "n_components_80 = next(i for i, v in enumerate(cumulative_variance) if v >= 0.80) + 1\n",
    "print(f\"Number of components to retain 80% variance: {n_components_80}\")\n",
    "\n",
    "# Reduce to the top n_components_80 components\n",
    "pca = PCA(n_components=n_components_80)\n",
    "X_reduced = pca.fit_transform(X_preprocessed)\n"
   ]
  },
  {
   "cell_type": "code",
   "execution_count": 88,
   "metadata": {},
   "outputs": [
    {
     "name": "stdout",
     "output_type": "stream",
     "text": [
      "Selected features: ['DifficultyErrands', 'HadArthritis', 'HIVTesting', 'Sex_Female', 'HadAsthma', 'DifficultyConcentrating', 'HeightInMeters', 'HadSkinCancer', 'HadCOPD', 'BlindOrVisionDifficulty', 'Sex_Male', 'HadKidneyDisease', 'HadDepressiveDisorder', 'ChestScan', 'DifficultyDressingBathing', 'BMI', 'AlcoholDrinkers', 'HighRiskLastYear', 'HadAngina', 'CovidPos', 'PneumoVaxEver', 'DeafOrHardOfHearing', 'WeightInKilograms', 'FluVaxLast12', 'DifficultyWalking', 'HadStroke']\n"
     ]
    }
   ],
   "source": [
    "# Get feature names from the preprocessor\n",
    "numerical_feature_names = numerical_features.tolist()\n",
    "categorical_feature_names = preprocessor.named_transformers_['cat'].get_feature_names_out(categorical_features).tolist()\n",
    "all_feature_names = numerical_feature_names + categorical_feature_names\n",
    "\n",
    "# Create a DataFrame for PCA loadings\n",
    "loading_matrix = pd.DataFrame(\n",
    "    pca.components_,\n",
    "    columns=all_feature_names,\n",
    "    index=[f'PC{i+1}' for i in range(pca.n_components_)]\n",
    ")\n",
    "\n",
    "top_features = set()\n",
    "\n",
    "for i in range(n_components_80):\n",
    "    top_features.update(\n",
    "        loading_matrix.iloc[i].abs().sort_values(ascending=False).head(5).index\n",
    "    )\n",
    "\n",
    "print(f\"Selected features: {list(top_features)}\")\n"
   ]
  },
  {
   "cell_type": "code",
   "execution_count": 89,
   "metadata": {},
   "outputs": [
    {
     "name": "stdout",
     "output_type": "stream",
     "text": [
      "['DifficultyErrands', 'HadArthritis', 'HIVTesting', 'HadAsthma', 'DifficultyConcentrating', 'HeightInMeters', 'HadSkinCancer', 'HadCOPD', 'BlindOrVisionDifficulty', 'HadKidneyDisease', 'HadDepressiveDisorder', 'ChestScan', 'DifficultyDressingBathing', 'Sex', 'BMI', 'AlcoholDrinkers', 'HighRiskLastYear', 'HadAngina', 'CovidPos', 'PneumoVaxEver', 'DeafOrHardOfHearing', 'WeightInKilograms', 'FluVaxLast12', 'DifficultyWalking', 'HadStroke']\n",
      "25\n"
     ]
    }
   ],
   "source": [
    "# List of original categorical columns (from your data)\n",
    "original_categorical_features = categorical_features.tolist()\n",
    "\n",
    "# Create a mapping of one-hot-encoded feature names back to original column names\n",
    "def map_to_original_feature(feature_name):\n",
    "    for cat_feature in original_categorical_features:\n",
    "        if feature_name.startswith(cat_feature + \"_\"):\n",
    "            return cat_feature\n",
    "    return feature_name  # Return numerical features or already non-encoded names\n",
    "\n",
    "# Map the top features back to their original names\n",
    "mapped_features = list(set(map(map_to_original_feature, top_features)))\n",
    "print(mapped_features)\n",
    "print(len(mapped_features))"
   ]
  },
  {
   "cell_type": "code",
   "execution_count": null,
   "metadata": {},
   "outputs": [
    {
     "name": "stdout",
     "output_type": "stream",
     "text": [
      "Number of components: 22\n"
     ]
    }
   ],
   "source": [
    "# test using random forest classifier\n",
    "from sklearn.model_selection import train_test_split\n",
    "from sklearn.ensemble import RandomForestClassifier\n",
    "from sklearn.metrics import accuracy_score\n",
    "\n",
    "# Using the components for 80% variance\n",
    "print(f\"Number of components: {n_components_80}\")\n",
    "\n",
    "# Use the optimal number of components for training and testing\n",
    "pca = PCA(n_components=n_components_80)\n",
    "X_reduced_final = pca.fit_transform(X_preprocessed)\n",
    "\n",
    "# Split data into training and testing sets\n",
    "X_train, X_test, y_train, y_test = train_test_split(X_reduced_final, y, test_size=0.2, random_state=42)\n",
    "\n",
    "# Train the final model\n",
    "model = RandomForestClassifier(random_state=42)\n",
    "model.fit(X_train, y_train)\n",
    "\n",
    "# Evaluate the final model\n",
    "y_pred = model.predict(X_test)\n",
    "accuracy = accuracy_score(y_test, y_pred)\n",
    "print(f\"Final model accuracy with {n_components_80} components: {accuracy:.2f}\")"
   ]
  }
 ],
 "metadata": {
  "kernelspec": {
   "display_name": "env",
   "language": "python",
   "name": "python3"
  },
  "language_info": {
   "codemirror_mode": {
    "name": "ipython",
    "version": 3
   },
   "file_extension": ".py",
   "mimetype": "text/x-python",
   "name": "python",
   "nbconvert_exporter": "python",
   "pygments_lexer": "ipython3",
   "version": "3.9.13"
  }
 },
 "nbformat": 4,
 "nbformat_minor": 2
}
